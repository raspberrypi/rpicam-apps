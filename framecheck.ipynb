{
 "cells": [
  {
   "cell_type": "code",
   "execution_count": null,
   "metadata": {},
   "outputs": [],
   "source": [
    "#redis-cli -h pi64-dev -p 6379 --csv XREAD COUNT 3000 STREAMS Bitmaps 0-0 > exp2.csv\n",
    "\n",
    "\n",
    "import pandas as pd\n",
    "\n",
    "csv = pd.read_csv(\"exp2.csv\")\n",
    "csv.diff()\n",
    "\n",
    "timestamps = []\n",
    "\n",
    "# create list of timestamps with every csv element that has length of 13\n",
    "for col in csv.columns:\n",
    "    if len(col) == 13:\n",
    "        try:\n",
    "            timestamps.append(int(col))\n",
    "        except BaseException as e:\n",
    "            pass\n",
    "\n",
    "df = pd.DataFrame(timestamps)\n",
    "print(df)\n",
    "print(df.diff().mean())\n",
    "len(timestamps)\n",
    "print(df.diff().value_counts().to_string())\n"
   ]
  }
 ],
 "metadata": {
  "language_info": {
   "name": "python"
  },
  "orig_nbformat": 4
 },
 "nbformat": 4,
 "nbformat_minor": 2
}
