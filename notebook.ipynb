{
 "cells": [
  {
   "cell_type": "code",
   "execution_count": 1,
   "metadata": {},
   "outputs": [
    {
     "name": "stderr",
     "output_type": "stream",
     "text": [
      "INFO:CamCom:1.7.0\n",
      "INFO:CamCom:CamComConfig(LOG_LVL='INFO')\n",
      "INFO:CamCom:RedisConfig(REDIS_HOST='haku', REDIS_PORT=6379, BLOCK=1000, MAXLEN=1000)\n",
      "INFO:CamCom:MemcachedConfig(COMPRESS=0, MEMCACHED='haku:11211')\n"
     ]
    },
    {
     "name": "stdout",
     "output_type": "stream",
     "text": [
      "y\n",
      "val\n"
     ]
    },
    {
     "name": "stderr",
     "output_type": "stream",
     "text": [
      "Raw stream: 640x400 stride 640 format NV12\n"
     ]
    }
   ],
   "source": [
    "from camcom import ImageCache\n",
    "import numpy as np\n",
    "import io\n",
    "from PIL import Image\n",
    "from matplotlib import pyplot as plt\n",
    "from subprocess import Popen, PIPE\n",
    "import time \n",
    "\n",
    "w, h = 640, 480\n",
    "\n",
    "#libcamera-raw --width 640 --height 400 ---n --framerate 120 -o mem://\n",
    "# p = Popen([\"libcamera-raw\", \"--width\", \"640\", \"--height\", \"400\" \"--framerate\", \"120\", \"---n\", \"-o\", \"mem://\"], shell=True, stdout=PIPE)\n",
    "# p = Popen([\"libcamera-hello --list\"], shell=True, stdout=PIPE, stdin=PIPE)\n",
    "p = Popen([\"libcamera-raw -t 1000 --width 640 --height 400 ---n --framerate 5 -o mem://\"], shell=True)\n",
    "print(\"y\")\n",
    "time.sleep(15)"
   ]
  },
  {
   "cell_type": "code",
   "execution_count": null,
   "metadata": {},
   "outputs": [],
   "source": [
    "\n",
    "while True:\n",
    "    time.sleep(1)\n",
    "    output = p.stdout.readline()\n",
    "    print(output)\n",
    "    if output == '' and p.poll() is not None:\n",
    "        break\n",
    "    if output:\n",
    "        print(output.strip())\n",
    "rc = p.poll()\n",
    "print(rc)\n",
    "\n",
    "\"\"\"\n",
    "for line in iter(p.stdout.readline, ''):\n",
    "    time.sleep(1)\n",
    "    print(line.strip())\n",
    "    image_data = ic.get(\"1658758455890\")\n",
    "    image = Image.frombytes('L', (w,h), image_data, 'raw')\n",
    "    # image.save(\"./test.bmp\")\n",
    "    arr = np.array(image.getdata()).reshape(image.size[0], image.size[1], 1)\n",
    "\"\"\""
   ]
  },
  {
   "cell_type": "code",
   "execution_count": null,
   "metadata": {},
   "outputs": [],
   "source": [
    "image_data = ic.get(\"1658758608794\")\n",
    "\n",
    "image = Image.frombytes('L', (w,h), image_data, 'raw')\n",
    "image.save(\"./test.bmp\")\n",
    "\n",
    "arr = np.array(image.getdata()).reshape(image.size[0], image.size[1], 1)\n",
    "print(arr)"
   ]
  }
 ],
 "metadata": {
  "kernelspec": {
   "display_name": "Python 3.9.12 64-bit",
   "language": "python",
   "name": "python3"
  },
  "language_info": {
   "codemirror_mode": {
    "name": "ipython",
    "version": 3
   },
   "file_extension": ".py",
   "mimetype": "text/x-python",
   "name": "python",
   "nbconvert_exporter": "python",
   "pygments_lexer": "ipython3",
   "version": "3.9.2"
  },
  "orig_nbformat": 4,
  "vscode": {
   "interpreter": {
    "hash": "31f2aee4e71d21fbe5cf8b01ff0e069b9275f58929596ceb00d14d90e3e16cd6"
   }
  }
 },
 "nbformat": 4,
 "nbformat_minor": 2
}
