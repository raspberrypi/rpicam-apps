{
 "cells": [
  {
   "cell_type": "code",
   "execution_count": 65,
   "metadata": {},
   "outputs": [
    {
     "name": "stdout",
     "output_type": "stream",
     "text": [
      "<PIL.Image.Image image mode=L size=640x480 at 0x7F567608E0>\n",
      "[[[125]\n",
      "  [125]\n",
      "  [126]\n",
      "  ...\n",
      "  [ 86]\n",
      "  [ 83]\n",
      "  [ 84]]\n",
      "\n",
      " [[ 85]\n",
      "  [ 87]\n",
      "  [ 86]\n",
      "  ...\n",
      "  [106]\n",
      "  [105]\n",
      "  [105]]\n",
      "\n",
      " [[106]\n",
      "  [106]\n",
      "  [105]\n",
      "  ...\n",
      "  [125]\n",
      "  [126]\n",
      "  [122]]\n",
      "\n",
      " ...\n",
      "\n",
      " [[113]\n",
      "  [110]\n",
      "  [107]\n",
      "  ...\n",
      "  [201]\n",
      "  [201]\n",
      "  [201]]\n",
      "\n",
      " [[201]\n",
      "  [201]\n",
      "  [201]\n",
      "  ...\n",
      "  [193]\n",
      "  [194]\n",
      "  [195]]\n",
      "\n",
      " [[194]\n",
      "  [194]\n",
      "  [194]\n",
      "  ...\n",
      "  [ 81]\n",
      "  [ 72]\n",
      "  [ 72]]]\n",
      "(76800,)\n"
     ]
    },
    {
     "ename": "ValueError",
     "evalue": "cannot reshape array of size 76800 into shape (640,480)",
     "output_type": "error",
     "traceback": [
      "\u001b[0;31m---------------------------------------------------------------------------\u001b[0m",
      "\u001b[0;31mValueError\u001b[0m                                Traceback (most recent call last)",
      "\u001b[1;32m/home/pi/wrk/libcamera-apps/notebook.ipynb Cell 1\u001b[0m in \u001b[0;36m<cell line: 24>\u001b[0;34m()\u001b[0m\n\u001b[1;32m     <a href='vscode-notebook-cell://ssh-remote%2Bpi64/home/pi/wrk/libcamera-apps/notebook.ipynb#ch0000000vscode-remote?line=21'>22</a>\u001b[0m decoded \u001b[39m=\u001b[39m np\u001b[39m.\u001b[39mfrombuffer(image_data, dtype\u001b[39m=\u001b[39mnp\u001b[39m.\u001b[39mdtype(\u001b[39m\"\u001b[39m\u001b[39mS6\u001b[39m\u001b[39m\"\u001b[39m))\n\u001b[1;32m     <a href='vscode-notebook-cell://ssh-remote%2Bpi64/home/pi/wrk/libcamera-apps/notebook.ipynb#ch0000000vscode-remote?line=22'>23</a>\u001b[0m \u001b[39mprint\u001b[39m(decoded\u001b[39m.\u001b[39mshape)\n\u001b[0;32m---> <a href='vscode-notebook-cell://ssh-remote%2Bpi64/home/pi/wrk/libcamera-apps/notebook.ipynb#ch0000000vscode-remote?line=23'>24</a>\u001b[0m decoded \u001b[39m=\u001b[39m np\u001b[39m.\u001b[39;49mreshape(decoded, (w, h))\n\u001b[1;32m     <a href='vscode-notebook-cell://ssh-remote%2Bpi64/home/pi/wrk/libcamera-apps/notebook.ipynb#ch0000000vscode-remote?line=24'>25</a>\u001b[0m \u001b[39mprint\u001b[39m(decoded\u001b[39m.\u001b[39mshape)\n\u001b[1;32m     <a href='vscode-notebook-cell://ssh-remote%2Bpi64/home/pi/wrk/libcamera-apps/notebook.ipynb#ch0000000vscode-remote?line=25'>26</a>\u001b[0m \u001b[39mprint\u001b[39m(decoded)\n",
      "File \u001b[0;32m<__array_function__ internals>:180\u001b[0m, in \u001b[0;36mreshape\u001b[0;34m(*args, **kwargs)\u001b[0m\n",
      "File \u001b[0;32m~/.local/lib/python3.9/site-packages/numpy/core/fromnumeric.py:298\u001b[0m, in \u001b[0;36mreshape\u001b[0;34m(a, newshape, order)\u001b[0m\n\u001b[1;32m    198\u001b[0m \u001b[39m@array_function_dispatch\u001b[39m(_reshape_dispatcher)\n\u001b[1;32m    199\u001b[0m \u001b[39mdef\u001b[39;00m \u001b[39mreshape\u001b[39m(a, newshape, order\u001b[39m=\u001b[39m\u001b[39m'\u001b[39m\u001b[39mC\u001b[39m\u001b[39m'\u001b[39m):\n\u001b[1;32m    200\u001b[0m     \u001b[39m\"\"\"\u001b[39;00m\n\u001b[1;32m    201\u001b[0m \u001b[39m    Gives a new shape to an array without changing its data.\u001b[39;00m\n\u001b[1;32m    202\u001b[0m \n\u001b[0;32m   (...)\u001b[0m\n\u001b[1;32m    296\u001b[0m \u001b[39m           [5, 6]])\u001b[39;00m\n\u001b[1;32m    297\u001b[0m \u001b[39m    \"\"\"\u001b[39;00m\n\u001b[0;32m--> 298\u001b[0m     \u001b[39mreturn\u001b[39;00m _wrapfunc(a, \u001b[39m'\u001b[39;49m\u001b[39mreshape\u001b[39;49m\u001b[39m'\u001b[39;49m, newshape, order\u001b[39m=\u001b[39;49morder)\n",
      "File \u001b[0;32m~/.local/lib/python3.9/site-packages/numpy/core/fromnumeric.py:57\u001b[0m, in \u001b[0;36m_wrapfunc\u001b[0;34m(obj, method, *args, **kwds)\u001b[0m\n\u001b[1;32m     54\u001b[0m     \u001b[39mreturn\u001b[39;00m _wrapit(obj, method, \u001b[39m*\u001b[39margs, \u001b[39m*\u001b[39m\u001b[39m*\u001b[39mkwds)\n\u001b[1;32m     56\u001b[0m \u001b[39mtry\u001b[39;00m:\n\u001b[0;32m---> 57\u001b[0m     \u001b[39mreturn\u001b[39;00m bound(\u001b[39m*\u001b[39;49margs, \u001b[39m*\u001b[39;49m\u001b[39m*\u001b[39;49mkwds)\n\u001b[1;32m     58\u001b[0m \u001b[39mexcept\u001b[39;00m \u001b[39mTypeError\u001b[39;00m:\n\u001b[1;32m     59\u001b[0m     \u001b[39m# A TypeError occurs if the object does have such a method in its\u001b[39;00m\n\u001b[1;32m     60\u001b[0m     \u001b[39m# class, but its signature is not identical to that of NumPy's. This\u001b[39;00m\n\u001b[0;32m   (...)\u001b[0m\n\u001b[1;32m     64\u001b[0m     \u001b[39m# Call _wrapit from within the except clause to ensure a potential\u001b[39;00m\n\u001b[1;32m     65\u001b[0m     \u001b[39m# exception has a traceback chain.\u001b[39;00m\n\u001b[1;32m     66\u001b[0m     \u001b[39mreturn\u001b[39;00m _wrapit(obj, method, \u001b[39m*\u001b[39margs, \u001b[39m*\u001b[39m\u001b[39m*\u001b[39mkwds)\n",
      "\u001b[0;31mValueError\u001b[0m: cannot reshape array of size 76800 into shape (640,480)"
     ]
    },
    {
     "ename": "",
     "evalue": "",
     "output_type": "error",
     "traceback": [
      "\u001b[1;31mThe Kernel crashed while executing code in the the current cell or a previous cell. Please review the code in the cell(s) to identify a possible cause of the failure. Click <a href='https://aka.ms/vscodeJupyterKernelCrash'>here</a> for more info. View Jupyter <a href='command:jupyter.viewOutput'>log</a> for further details."
     ]
    }
   ],
   "source": [
    "from camcom import ImageCache\n",
    "import numpy as np\n",
    "import io\n",
    "from PIL import Image\n",
    "from matplotlib import pyplot as plt\n",
    "\n",
    "ic = ImageCache()\n",
    "w, h = 640, 480\n",
    "\n",
    "image_data = ic.get(\"1658750257845\")\n",
    "\n",
    "image = Image.frombytes('L', (w,h), image_data, 'raw')\n",
    "print(image)\n",
    "image.save(\"./test.bmp\")\n",
    "\n",
    "arr = np.array(image.getdata()).reshape(image.size[0], image.size[1], 1)\n",
    "\n",
    "print(arr)\n",
    "exit()\n",
    "decoded = np.frombuffer(image_data, dtype=np.dtype(\"S6\"))\n",
    "print(decoded.shape)\n",
    "decoded = np.reshape(decoded, (w, h))\n",
    "print(decoded.shape)\n",
    "print(decoded)\n"
   ]
  }
 ],
 "metadata": {
  "language_info": {
   "name": "python"
  },
  "orig_nbformat": 4
 },
 "nbformat": 4,
 "nbformat_minor": 2
}
